{
 "cells": [
  {
   "cell_type": "code",
   "execution_count": 1,
   "metadata": {},
   "outputs": [],
   "source": [
    "from io import StringIO\n",
    "import csv\n",
    "import shlex\n",
    "from import_export import *"
   ]
  },
  {
   "cell_type": "markdown",
   "metadata": {},
   "source": [
    "Get input data"
   ]
  },
  {
   "cell_type": "code",
   "execution_count": 14,
   "metadata": {},
   "outputs": [
    {
     "data": {
      "text/plain": [
       "\"words,filter_function,exact,case_sensitive\\r\\nKing,remove_text_garbage,,\\r\\nKing,remove_text_garbage,False,\\r\\nKing,remove_text_garbage,,True\\r\\nTree,remove_text_garbage,True,\\r\\nEmpire State Building,remove_text_garbage,True,\\r\\n'Empire State Building',remove_text_garbage,False,\\r\\nGod,remove_text_garbage,True,True\\r\\nTV Series,remove_text_garbage,True,\\r\\nTelevision Series,remove_text_garbage,True,\\r\\nRevolution,remove_text_garbage,True,\\r\\nGroups,remove_text_garbage,True,\\r\\nEntertainment,remove_text_garbage,True,\\r\\nWash,remove_text_garbage,False,\\r\\nBush,remove_text_garbage,False,\\r\\nBush,remove_text_garbage,True,True\\r\\nClinton,remove_text_garbage,True,\\r\\nCEO,remove_text_garbage,True,\\r\\nCFO,remove_text_garbage,True,\\r\\nVideo Game,remove_text_garbage,False,\\r\\nNew England,remove_text_garbage,False,\\r\\nKing England,remove_text_garbage,False,\\r\\nUganda,remove_text_garbage,False,\\r\\nRwanda,remove_text_garbage,False,\\r\\nCountry,remove_text_garbage,False,\\r\\nPolitics,remove_text_garbage,False,\\r\\nFashion,remove_text_garbage,False,\\r\\nLiterature,remove_text_garbage,False,\\r\\nHealth,remove_text_garbage,False,\\r\\nSecur,remove_text_garbage,False,False\\r\\nInject,remove_text_garbage,False,\\r\\nComputer,remove_text_garbage,False,\\r\\nTennis,remove_text_garbage,False,\\r\\n\""
      ]
     },
     "execution_count": 14,
     "metadata": {},
     "output_type": "execute_result"
    }
   ],
   "source": [
    "copypasta = StringIO()\n",
    "input_data = get_inputs()\n",
    "fieldnames = [\"words\"]\n",
    "for row in input_data:\n",
    "    for key in row.options:\n",
    "        if key not in fieldnames:\n",
    "            fieldnames.append(key)\n",
    "\n",
    "writer = csv.DictWriter(copypasta, fieldnames)\n",
    "writer.writeheader()\n",
    "\n",
    "for row in input_data:\n",
    "    row_dict = {\"words\": shlex.join(row.words)}\n",
    "    for fieldname in fieldnames:\n",
    "        if fieldname == \"words\":\n",
    "            continue\n",
    "        row_dict[fieldname] = row.options.get(fieldname, None)\n",
    "    writer.writerow(row_dict)\n"
   ]
  }
 ],
 "metadata": {
  "interpreter": {
   "hash": "31f2aee4e71d21fbe5cf8b01ff0e069b9275f58929596ceb00d14d90e3e16cd6"
  },
  "kernelspec": {
   "display_name": "Python 3.8.10 64-bit",
   "language": "python",
   "name": "python3"
  },
  "language_info": {
   "codemirror_mode": {
    "name": "ipython",
    "version": 3
   },
   "file_extension": ".py",
   "mimetype": "text/x-python",
   "name": "python",
   "nbconvert_exporter": "python",
   "pygments_lexer": "ipython3",
   "version": "3.8.10"
  },
  "orig_nbformat": 4
 },
 "nbformat": 4,
 "nbformat_minor": 2
}
