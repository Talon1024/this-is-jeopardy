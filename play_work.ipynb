{
 "cells": [
  {
   "cell_type": "markdown",
   "metadata": {},
   "source": [
    "# Preparing to play\n",
    "\n",
    "This notebook has my work towards an implementation of the play function in play.py"
   ]
  },
  {
   "cell_type": "markdown",
   "metadata": {},
   "source": [
    "Initial imports"
   ]
  },
  {
   "cell_type": "code",
   "execution_count": 143,
   "metadata": {},
   "outputs": [],
   "source": [
    "import pandas as pd\n",
    "import numpy as np\n",
    "from processing import *"
   ]
  },
  {
   "cell_type": "markdown",
   "metadata": {},
   "source": [
    "Get Jeopardy data and preprocess it"
   ]
  },
  {
   "cell_type": "code",
   "execution_count": 144,
   "metadata": {},
   "outputs": [],
   "source": [
    "jeopardy_data = pd.read_csv(\"jeopardy.csv\")\n",
    "preprocess(jeopardy_data)"
   ]
  },
  {
   "cell_type": "markdown",
   "metadata": {},
   "source": [
    "Ensure each category has 5 or more questions, and pick 7 random categories out of those available."
   ]
  },
  {
   "cell_type": "code",
   "execution_count": 145,
   "metadata": {},
   "outputs": [],
   "source": [
    "# Makes it easier to change the variables later\n",
    "categories_to_show = 7\n",
    "min_questions = 5"
   ]
  },
  {
   "cell_type": "code",
   "execution_count": 146,
   "metadata": {},
   "outputs": [
    {
     "data": {
      "text/plain": [
       "Index(['\"D\"UDE!', 'PEN NAMES', 'FIRST & LAST NAME, PLEASE',\n",
       "       'SPECIAL \"K\" PLACES', '\"DIS\" FUNCTION', 'HEY, WHAT'S COOKING',\n",
       "       'KEY WORDS'],\n",
       "      dtype='object')"
      ]
     },
     "execution_count": 146,
     "metadata": {},
     "output_type": "execute_result"
    }
   ],
   "source": [
    "categories = jeopardy_data.category\n",
    "categories = categories.value_counts().apply( \\\n",
    "    lambda c: c >= min_questions)\n",
    "categories = categories[categories == True]\n",
    "categories = categories.sample(categories_to_show)\n",
    "categories = categories.index\n",
    "categories"
   ]
  },
  {
   "cell_type": "markdown",
   "metadata": {},
   "source": [
    "Get 5 questions for the available categories"
   ]
  },
  {
   "cell_type": "code",
   "execution_count": 147,
   "metadata": {},
   "outputs": [],
   "source": [
    "questions = jeopardy_data[jeopardy_data.category.apply( \\\n",
    "    lambda c: c in categories)]\n",
    "category_question_count = {}\n",
    "def incr(key):\n",
    "    category_question_count.setdefault(key, 0)\n",
    "    category_question_count[key] += 1\n",
    "    return category_question_count[key] <= 5\n",
    "questions = questions[questions.category.apply(incr)].reset_index(drop=True)\n",
    "questions = {c: [\n",
    "    {\"value\": q.value_float, \"question\": q.question, \"answer\": q.answer, \\\n",
    "     \"answered\": None} for q in \\\n",
    "     questions[questions.category == c].itertuples()] for c in categories}\n",
    "for category in questions.values():\n",
    "    for row, question in enumerate(category):\n",
    "        if question[\"value\"] is None:\n",
    "            question[\"value\"] = row * 400"
   ]
  },
  {
   "cell_type": "markdown",
   "metadata": {},
   "source": [
    "Get parameters related to the interface/view of the categories and questions"
   ]
  },
  {
   "cell_type": "code",
   "execution_count": 158,
   "metadata": {},
   "outputs": [],
   "source": [
    "# Terminals are typically 80 characters wide\n",
    "view_width = 80\n",
    "def get_view_parms(view_width):\n",
    "    cell_width, expanded_cells = divmod(view_width, categories_to_show)\n",
    "    cell_width -= 1  # Add space for a pipe character\n",
    "    cell_template_str = \"{{:^{}}}|\"\n",
    "    cell_format_str = cell_template_str.format(cell_width)\n",
    "    # return {\n",
    "    #     \"cell_width\": cell_width,\n",
    "    #     \"expanded_cells\": expanded_cells,\n",
    "    #     \"cell_format\": cell_format_str\n",
    "    # }\n",
    "    return cell_width, expanded_cells, cell_format_str\n",
    "view_parms = get_view_parms(view_width)"
   ]
  },
  {
   "cell_type": "markdown",
   "metadata": {},
   "source": [
    "Print out the categories and money values for each question in the category"
   ]
  },
  {
   "cell_type": "code",
   "execution_count": 159,
   "metadata": {},
   "outputs": [
    {
     "name": "stdout",
     "output_type": "stream",
     "text": [
      " \"D\"UDE!  | PEN NAMES | FIRST & LA| SPECIAL \"K|\"DIS\" FUNC|HEY, WHAT'|KEY WORDS |\n",
      "          |           | ST NAME, P|  \" PLACES |   TION   |S COOKING |          |\n",
      "          |           |   LEASE   |           |          |          |          |\n",
      "--------------------------------------------------------------------------------\n"
     ]
    }
   ],
   "source": [
    "def print_category_headers(view_parms):\n",
    "    cell_width, expanded_cells, cell_format_str = view_parms\n",
    "    longest_category = max(categories, key=len)\n",
    "    lines, extra_line = divmod(len(longest_category), cell_width)\n",
    "    if extra_line > 0:\n",
    "        lines += 1\n",
    "\n",
    "    for line in range(lines):\n",
    "        extender = expanded_cells\n",
    "        for col in categories:\n",
    "            start = line * cell_width\n",
    "            end = start + cell_width\n",
    "            print(cell_format_str.format(col[start:end]), sep=\"\", end=\"\")\n",
    "            if extender > 0:\n",
    "                print(\" \", end=\"\")\n",
    "                extender -= 1\n",
    "        print()\n",
    "    print(\"-\" * view_width)  # Separator between categories and monies\n",
    "print_category_headers(view_parms)"
   ]
  },
  {
   "cell_type": "markdown",
   "metadata": {},
   "source": [
    "Print out the money values for each selected question"
   ]
  },
  {
   "cell_type": "code",
   "execution_count": 160,
   "metadata": {},
   "outputs": [
    {
     "name": "stdout",
     "output_type": "stream",
     "text": [
      "  $200.0  |    xxxx   |   $400.0  |   $200.0  |    ✓     |  $100.0  |  $200.0  |\n",
      "--------------------------------------------------------------------------------\n",
      "  $400.0  |    xxxx   |  $6000.0  |   $400.0  |  $400.0  |  $200.0  |  $400.0  |\n",
      "--------------------------------------------------------------------------------\n",
      "  $600.0  |   $600.0  |  $1200.0  |   $600.0  |  $600.0  |  $300.0  |  $600.0  |\n",
      "--------------------------------------------------------------------------------\n",
      " $2000.0  |   $800.0  |  $1600.0  |   $800.0  |  $800.0  |  $400.0  |  $800.0  |\n",
      "--------------------------------------------------------------------------------\n",
      " $1000.0  |  $1000.0  |  $2000.0  |  $1000.0  | $1000.0  |  $500.0  | $4000.0  |\n",
      "--------------------------------------------------------------------------------\n"
     ]
    }
   ],
   "source": [
    "def print_question_values(view_parms):\n",
    "    cell_width, expanded_cells, cell_format_str = view_parms\n",
    "    for row in range(min_questions):\n",
    "        extender = expanded_cells\n",
    "        for col in categories:\n",
    "            answered = questions[col][row][\"answered\"]\n",
    "            if answered is None:\n",
    "                money_number = questions[col][row][\"value\"]\n",
    "                money_value = \"${}\".format(money_number)\n",
    "            else:\n",
    "                money_value = \"✓\" * 4 if answered else \"x\" * 4\n",
    "            print(cell_format_str.format(money_value), end=\"\", sep=\"\")\n",
    "            if extender > 0:\n",
    "                print(\" \", end=\"\")\n",
    "                extender -= 1\n",
    "        print(\"\\n\", \"-\" * view_width, sep=\"\")\n",
    "print_question_values(view_parms)"
   ]
  },
  {
   "cell_type": "markdown",
   "metadata": {},
   "source": [
    "Prompt for category and money value"
   ]
  },
  {
   "cell_type": "code",
   "execution_count": 153,
   "metadata": {},
   "outputs": [
    {
     "name": "stdout",
     "output_type": "stream",
     "text": [
      "Your wallet: $0\n",
      "Select category (1-7, from left to right, or Q to quit)\n",
      ">>> Select question (1-5, from top to bottom, or Q to quit)\n",
      ">>> PEN NAMES for 200.0: 2 of his pen names were rather transparent: Antosha Chekhonte & Anton Ch.\n",
      ">>> Who/What/Where/When is Incorrect. The answer is Anton Chekhov\n",
      "Your wallet: $0\n",
      "Select category (1-7, from left to right, or Q to quit)\n",
      ">>> Select question (1-5, from top to bottom, or Q to quit)\n",
      ">>> Question has already been answered.\n",
      "Your wallet: $0\n",
      "Select category (1-7, from left to right, or Q to quit)\n",
      ">>> Select question (1-5, from top to bottom, or Q to quit)\n",
      ">>> PEN NAMES for 400.0: Dublin-born playwright John Casey changed his name to this, which sounds more Irish\n",
      ">>> Who/What/Where/When is Incorrect. The answer is Sean O' Casey\n",
      "Your wallet: $0\n",
      "Select category (1-7, from left to right, or Q to quit)\n",
      ">>> Select question (1-5, from top to bottom, or Q to quit)\n",
      ">>> \"DIS\" FUNCTION for 200.0: In 1956 Al Oerter tossed one of these 184' 11\"\n",
      ">>> Who/What/Where/When is Correct!\n",
      "Your wallet: $200.0\n",
      "Select category (1-7, from left to right, or Q to quit)\n",
      ">>> You walk away with $200.0\n"
     ]
    }
   ],
   "source": [
    "wallet = 0\n",
    "answers_given = 0\n",
    "max_answers = categories_to_show * min_questions\n",
    "def play_one_question():\n",
    "    global wallet  # nonlocal wallet\n",
    "    global questions  # nonlocal questions\n",
    "    global answers_given  # nonlocal answers_given\n",
    "    if answers_given > max_answers:\n",
    "        return False\n",
    "    print(\"Your wallet: ${}\".format(wallet))\n",
    "\n",
    "    # Prompt for category\n",
    "    print(\"Select category (1-{}, \"\n",
    "          \"from left to right, or Q to quit)\" \\\n",
    "          .format(categories_to_show),\n",
    "          sep=\"\", end=\"\\n>>> \")\n",
    "    category_index_choice = None\n",
    "    while type(category_index_choice) != int:\n",
    "        category_index_choice = input()\n",
    "        if category_index_choice.lower() == \"q\":\n",
    "            return False\n",
    "        try:\n",
    "            category_index_choice = int(category_index_choice)\n",
    "        except ValueError:\n",
    "            print(\"Invalid choice. Please enter a number.\")\n",
    "            continue\n",
    "        if (category_index_choice > categories_to_show or\n",
    "                category_index_choice < 1):\n",
    "            print(\"Invalid choice.\")\n",
    "            category_index_choice = None\n",
    "    category_index_choice -= 1  # 0-based indices\n",
    "\n",
    "    # Prompt for question\n",
    "    print(\"Select question (1-{}, \"\n",
    "          \"from top to bottom, or Q to quit)\" \\\n",
    "          .format(min_questions),\n",
    "          sep=\"\", end=\"\\n>>> \")\n",
    "    question_index_choice = None\n",
    "    while type(question_index_choice) != int:\n",
    "        question_index_choice = input()\n",
    "        if question_index_choice.lower() == \"q\":\n",
    "            return False\n",
    "        try:\n",
    "            question_index_choice = int(question_index_choice)\n",
    "        except ValueError:\n",
    "            print(\"Invalid choice. Please enter a number.\")\n",
    "            continue\n",
    "        if (question_index_choice > min_questions or\n",
    "                question_index_choice < 1):\n",
    "            print(\"Invalid choice.\")\n",
    "            question_index_choice = None\n",
    "    question_index_choice -= 1  # 0-based indices\n",
    "\n",
    "    selected_category = categories[category_index_choice]\n",
    "    selected_question = \\\n",
    "        questions[selected_category][question_index_choice]\n",
    "\n",
    "    if questions[selected_category][question_index_choice][\"answered\"] is None:\n",
    "        print(\"{} for {}: {}\" \\\n",
    "        .format(selected_category, selected_question[\"value\"], \\\n",
    "            selected_question[\"question\"]), end=\"\\n>>> Who/What/Where/When is \")\n",
    "    else:\n",
    "        print(\"Question has already been answered.\")\n",
    "        return True\n",
    "\n",
    "    your_answer = input()\n",
    "    if your_answer == selected_question[\"answer\"]:\n",
    "        print(\"Correct!\")\n",
    "        wallet += selected_question[\"value\"]\n",
    "        answers_given += 1\n",
    "        questions[selected_category][question_index_choice][\"answered\"] = True\n",
    "    elif your_answer.lower() == \"q\":\n",
    "        return False\n",
    "    else:\n",
    "        print(\"Incorrect. The answer is {}\".format(selected_question[\"answer\"]))\n",
    "        questions[selected_category][question_index_choice][\"answered\"] = False\n",
    "        answers_given += 1\n",
    "\n",
    "    return True\n",
    "\n",
    "while play_one_question():\n",
    "    pass\n",
    "print(\"You walk away with ${}\".format(wallet))"
   ]
  }
 ],
 "metadata": {
  "interpreter": {
   "hash": "31f2aee4e71d21fbe5cf8b01ff0e069b9275f58929596ceb00d14d90e3e16cd6"
  },
  "kernelspec": {
   "display_name": "Python 3.8.10 64-bit",
   "language": "python",
   "name": "python3"
  },
  "language_info": {
   "codemirror_mode": {
    "name": "ipython",
    "version": 3
   },
   "file_extension": ".py",
   "mimetype": "text/x-python",
   "name": "python",
   "nbconvert_exporter": "python",
   "pygments_lexer": "ipython3",
   "version": "3.8.10"
  },
  "orig_nbformat": 4
 },
 "nbformat": 4,
 "nbformat_minor": 2
}
